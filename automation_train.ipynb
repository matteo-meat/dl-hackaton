{
 "cells": [
  {
   "cell_type": "code",
   "execution_count": 1,
   "id": "eeeafeab",
   "metadata": {},
   "outputs": [
    {
     "name": "stdout",
     "output_type": "stream",
     "text": [
      "automation_train.ipynb  \u001b[0m\u001b[01;34mdata\u001b[0m/    old_main.py       \u001b[01;34msrc\u001b[0m/\n",
      "changes.txt             \u001b[01;34mlogs\u001b[0m/    \u001b[01;34m__pycache__\u001b[0m/      zipthefolder.py\n",
      "\u001b[01;34mcheckpoints\u001b[0m/            main.py  requirements.txt\n"
     ]
    }
   ],
   "source": [
    "ls"
   ]
  },
  {
   "cell_type": "code",
   "execution_count": 4,
   "id": "834fd0dc",
   "metadata": {},
   "outputs": [
    {
     "name": "stdout",
     "output_type": "stream",
     "text": [
      "Loading graphs from /home/francesco/repos/dl-hackaton/data/data/A/test.json.gz...\n",
      "This may take a few minutes, please wait...\n",
      "^C\n",
      "Traceback (most recent call last):\n",
      "  File \"/home/francesco/repos/dl-hackaton/main.py\", line 291, in <module>\n",
      "    main(args)\n",
      "  File \"/home/francesco/repos/dl-hackaton/main.py\", line 171, in main\n",
      "    test_dataset = GraphDataset(args.test_path, transform=init_features)\n",
      "  File \"/home/francesco/repos/dl-hackaton/src/loadData.py\", line 12, in __init__\n",
      "    self.graphs = self.loadGraphs(self.raw)\n",
      "  File \"/home/francesco/repos/dl-hackaton/src/loadData.py\", line 26, in loadGraphs\n",
      "    graphs_dicts = json.load(f)\n",
      "  File \"/home/francesco/miniconda3/envs/deeplearning/lib/python3.13/json/__init__.py\", line 293, in load\n",
      "    return loads(fp.read(),\n",
      "  File \"/home/francesco/miniconda3/envs/deeplearning/lib/python3.13/gzip.py\", line 326, in read\n",
      "    return self._buffer.read(size)\n",
      "  File \"/home/francesco/miniconda3/envs/deeplearning/lib/python3.13/_compression.py\", line 118, in readall\n",
      "    while data := self.read(sys.maxsize):\n",
      "  File \"/home/francesco/miniconda3/envs/deeplearning/lib/python3.13/gzip.py\", line 552, in read\n",
      "    self._crc = zlib.crc32(uncompress, self._crc)\n",
      "KeyboardInterrupt\n"
     ]
    }
   ],
   "source": [
    "!python main.py --test_path /home/francesco/repos/dl-hackaton/data/data/A/test.json.gz --train_path /home/francesco/repos/dl-hackaton/data/data/A/train.json.gz --gnn ena_gine"
   ]
  }
 ],
 "metadata": {
  "kernelspec": {
   "display_name": "deeplearning",
   "language": "python",
   "name": "python3"
  },
  "language_info": {
   "codemirror_mode": {
    "name": "ipython",
    "version": 3
   },
   "file_extension": ".py",
   "mimetype": "text/x-python",
   "name": "python",
   "nbconvert_exporter": "python",
   "pygments_lexer": "ipython3",
   "version": "3.13.2"
  }
 },
 "nbformat": 4,
 "nbformat_minor": 5
}
