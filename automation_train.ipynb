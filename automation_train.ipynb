{
 "cells": [
  {
   "cell_type": "code",
   "execution_count": 1,
   "id": "eeeafeab",
   "metadata": {},
   "outputs": [
    {
     "name": "stdout",
     "output_type": "stream",
     "text": [
      "automation_train.ipynb  \u001b[0m\u001b[01;34mdata\u001b[0m/    old_main.py       \u001b[01;34msrc\u001b[0m/\n",
      "changes.txt             \u001b[01;34mlogs\u001b[0m/    \u001b[01;34m__pycache__\u001b[0m/      zipthefolder.py\n",
      "\u001b[01;34mcheckpoints\u001b[0m/            main.py  requirements.txt\n"
     ]
    }
   ],
   "source": [
    "ls"
   ]
  },
  {
   "cell_type": "code",
   "execution_count": null,
   "id": "834fd0dc",
   "metadata": {},
   "outputs": [],
   "source": [
    "!python main.py --test_path /home/francesco/repos/dl-hackaton/data/data/A/test.json.gz --train_path /home/francesco/repos/dl-hackaton/data/data/A/train.json.gz --gnn ena_gine"
   ]
  },
  {
   "cell_type": "code",
   "execution_count": null,
   "id": "3b914247",
   "metadata": {},
   "outputs": [],
   "source": [
    "!python main.py --test_path /home/francesco/repos/dl-hackaton/data/data/B/test.json.gz --train_path /home/francesco/repos/dl-hackaton/data/data/B/train.json.gz --gnn ena_gine"
   ]
  },
  {
   "cell_type": "code",
   "execution_count": null,
   "id": "3b96224f",
   "metadata": {},
   "outputs": [],
   "source": [
    "!python main.py --test_path /home/francesco/repos/dl-hackaton/data/data/C/test.json.gz --train_path /home/francesco/repos/dl-hackaton/data/data/C/train.json.gz --gnn ena_gine"
   ]
  },
  {
   "cell_type": "code",
   "execution_count": null,
   "id": "a970d177",
   "metadata": {},
   "outputs": [],
   "source": [
    "!python main.py --test_path /home/francesco/repos/dl-hackaton/data/data/D/test.json.gz --train_path /home/francesco/repos/dl-hackaton/data/data/D/train.json.gz --gnn ena_gine\n"
   ]
  }
 ],
 "metadata": {
  "kernelspec": {
   "display_name": "deeplearning",
   "language": "python",
   "name": "python3"
  },
  "language_info": {
   "codemirror_mode": {
    "name": "ipython",
    "version": 3
   },
   "file_extension": ".py",
   "mimetype": "text/x-python",
   "name": "python",
   "nbconvert_exporter": "python",
   "pygments_lexer": "ipython3",
   "version": "3.13.2"
  }
 },
 "nbformat": 4,
 "nbformat_minor": 5
}
